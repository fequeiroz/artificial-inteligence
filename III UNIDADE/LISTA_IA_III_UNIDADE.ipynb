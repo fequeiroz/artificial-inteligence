{
  "nbformat": 4,
  "nbformat_minor": 0,
  "metadata": {
    "colab": {
      "provenance": [],
      "authorship_tag": "ABX9TyOqaSCIU5czrUSMZwYI+Vmx",
      "include_colab_link": true
    },
    "kernelspec": {
      "name": "python3",
      "display_name": "Python 3"
    },
    "language_info": {
      "name": "python"
    }
  },
  "cells": [
    {
      "cell_type": "markdown",
      "metadata": {
        "id": "view-in-github",
        "colab_type": "text"
      },
      "source": [
        "<a href=\"https://colab.research.google.com/github/fequeiroz/artificial-inteligence/blob/main/III%20UNIDADE/LISTA_IA_III_UNIDADE.ipynb\" target=\"_parent\"><img src=\"https://colab.research.google.com/assets/colab-badge.svg\" alt=\"Open In Colab\"/></a>"
      ]
    },
    {
      "cell_type": "markdown",
      "source": [
        "# **Questão 5**\n",
        "*Pesquise e apresente uma aplicação sobre Sistemas Especialistas.*\n",
        "\n"
      ],
      "metadata": {
        "id": "d-zDvFr2Y4vt"
      }
    },
    {
      "cell_type": "markdown",
      "source": [
        "Aplicação de sistemas especialistas na área de cardiologia de hospitais.\n",
        "\n",
        "Fonte: http://www.informaticamedica.org.br/informaticamedica/n0105/widman.htm\n",
        "\n",
        "***Como pode ser aplicado?***\n",
        "\n",
        "**Apoio à decisão:**\n",
        "\n",
        "- Pacientes com angina de peito: decidir se o paciente vai ser observado clínicamente, fazer um Holter, ser internado na UTI.\n",
        "Pacientes com infarto agudo do miocárdio: decidir se deverá ser utilizada trombólise ou PCTA.\n",
        "- Estratificação dos riscos de pacientes que sofreram infarto.\n",
        "- Outros métodos diagnósticos padronizados, como interpretação automática de exames laboratoriais.\n",
        "\n",
        "**Processamento de sinais:**\n",
        "\n",
        "- Eletrocardiogramas comuns e de alta resolução\n",
        "- Cintilografias cardíacas com tálio\n",
        "\n",
        "**Controle de qualidade:**\n",
        "\n",
        "- Interações entre medicamentos.\n",
        "- Auditoria de atos médicos (por exemplo: justificava-se nesse caso fazer uma cineangiocoronariografia ?).\n",
        "\n",
        "**Controle de processos:**\n",
        "\n",
        "- Gerenciamento automatizado de dispositivos de controle, tais como bombas de infusão de drogas.\n"
      ],
      "metadata": {
        "id": "ojr2n8Uagqm7"
      }
    },
    {
      "cell_type": "markdown",
      "source": [
        "***Exemplo de sistema especialista utilizado atualmente:***\n",
        "\n",
        "> O Quick Medical Reference System (QMR) é um programa que realiza o diagnóstico diferencial em muitas áreas da Medicina Interna, e também é útil para ensino (deve-se notar, no entanto que o programa tem um grau de profundidade limitado em várias áreas, como nas doenças cardiovasculares) O desempenho do sistema foi testado com 31 casos não solucionados dos serviços médicos de dois hospitais universitários. O diagnóstico obtido com o sistema foi comparado com a melhor hipótese diagnóstica fornecida pelo médico que atendia os casos. O padrão-ouro (diagnóstico definitivo) foi o obtido para os 20 casos que foram resolvidos depois de um seguimento de seis meses. Os resultados foram os seguintes: o médico acertou 80 % dos casos resolvidos, o sistema QMR acertou 85 % (uma diferença não significativa em relação ao médico), e os médicos que não cuidavam do caso (residentes, por exemplo), acertaram apenas 60 % dos diagnósticos (uma diferença significativa em relação ao médico que cuidava dos casos e do sistema especialista), comprovando que o QMR tem desempenho semelhante ao do especialista nos casos tratados.\n"
      ],
      "metadata": {
        "id": "8GjNysTAa7j4"
      }
    },
    {
      "cell_type": "markdown",
      "source": [
        "# **Questão 6**\n",
        "\n",
        "*Pesquise e apresente um trabalho sobre o problema do pêndulo invertido fazendo uso da lógica fuzzy.*\n",
        "\n"
      ],
      "metadata": {
        "id": "gGC88OcKbufV"
      }
    },
    {
      "cell_type": "markdown",
      "source": [
        "O pêndulo invertido é um sistema muito difundido na área de automação e robótica, cujo modelo é útil para diversas aplicações da engenharia tais como: veículos de transporte humano, guindastes navais, estudos de robôs e ciência de controle, dentre outras. O método por Lógica Fuzzy é baseado em informações\n",
        "qualitativas sobre a operação do sistema. Logo, não é necessário utilizar modelagem no sistema a ser controlado, simplificando o caminho para a solução, já que o pêndulo invertido é um sistema dinâmico complexo.\n",
        "\n",
        "\n",
        "O controlador Fuzzy apresenta uma vantagem em relação aos demais controladores,\n",
        "como LGR, que é a de ter uma abordagem mais intuitiva, ou seja, baseada em variáveis e regras\n",
        "linguísticas, assim suportando os modos de raciocínio que são aproximados ao invés de exatos.\n",
        "Assim, a lógica Fuzzy acaba sendo um artificio de redução da complexidade de um determinado\n",
        "projeto e implementação, tornando-se solução para problemas de controle até então intratáveis\n",
        "por técnicas clássicas.\n",
        "\n",
        "*As regras da lógica fuzzy foram aplicadas de acordo com os ângulos ômega e theta do pêndulo invertido.*\n",
        "\n",
        "**Link para o trabalho apresentado:**\n",
        "https://repositorio.ufersa.edu.br/bitstream/prefix/3037/2/NayanaFG_MONO.pdf\n"
      ],
      "metadata": {
        "id": "_khozr8kgiIs"
      }
    },
    {
      "cell_type": "markdown",
      "source": [
        "# **Questão 7**\n",
        "\n",
        "*Pesquise e apresente um trabalho sobre os métodos de busca em árvore. No trabalho apresente uma aplicação de livre escolha.*\n",
        "\n"
      ],
      "metadata": {
        "id": "CdxXGN4hgK_0"
      }
    },
    {
      "cell_type": "markdown",
      "source": [
        "O método de busca ***subida de encosta*** (hill climbing) é um algoritmo heurístico que é usado para encontrar o máximo local de uma função. Ele funciona iniciando em uma solução inicial e, iterativamente, fazendo movimentos que melhoram a solução, até que não sejam mais possíveis melhorias.\n",
        "\n",
        "Para realizar a subida de encosta, o algoritmo inicia em uma solução inicial e então considera um conjunto de movimentos potenciais. Ele escolhe o movimento que leva à maior melhora na solução e, em seguida, repete o processo até atingir um máximo local. Em um máximo local, não há mais movimentos que possam melhorar a solução.\n",
        "\n",
        "A subida de encosta pode ser usada para resolver uma ampla variedade de problemas de otimização, como encontrar o caminho mais curto entre dois pontos ou encontrar o valor máximo de uma função."
      ],
      "metadata": {
        "id": "SnGE-uTfgZfK"
      }
    },
    {
      "cell_type": "markdown",
      "source": [
        "**Aplicação:**\n",
        "\n",
        "Como modo de aplicação, o método da subida de encosta foi aplicado para solucionar o problema das \"n-rainhas\", que consiste em encontrar uma forma de dispor oito damas em um tabuleiro 8x8, de forma que nenhuma delas seja atacada por outra.\n",
        "\n",
        "A aplicação pode ser conferida no link: https://github.com/gustavo32/ab_nqueens/blob/master/n-queens.ipynb"
      ],
      "metadata": {
        "id": "iIqVPzmDp3yv"
      }
    }
  ]
}