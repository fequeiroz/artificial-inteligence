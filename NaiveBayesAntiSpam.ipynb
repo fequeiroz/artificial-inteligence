{
  "nbformat": 4,
  "nbformat_minor": 0,
  "metadata": {
    "colab": {
      "provenance": [],
      "collapsed_sections": [],
      "include_colab_link": true
    },
    "kernelspec": {
      "name": "python3",
      "display_name": "Python 3"
    },
    "language_info": {
      "name": "python"
    }
  },
  "cells": [
    {
      "cell_type": "markdown",
      "metadata": {
        "id": "view-in-github",
        "colab_type": "text"
      },
      "source": [
        "<a href=\"https://colab.research.google.com/github/fequeiroz/artificial-inteligence/blob/main/NaiveBayesAntiSpam.ipynb\" target=\"_parent\"><img src=\"https://colab.research.google.com/assets/colab-badge.svg\" alt=\"Open In Colab\"/></a>"
      ]
    },
    {
      "cell_type": "code",
      "source": [
        "import nltk\n",
        "\n",
        "from nltk.corpus import stopwords\n",
        "\n",
        "import string\n",
        "\n",
        "import pandas as pd\n",
        "\n",
        "from sklearn.model_selection import train_test_split\n",
        "from sklearn.pipeline import Pipeline\n",
        "from sklearn.feature_extraction.text import CountVectorizer\n",
        "from sklearn.feature_extraction.text import TfidfTransformer\n",
        "from sklearn.naive_bayes import MultinomialNB\n",
        "from sklearn.metrics import classification_report,confusion_matrix"
      ],
      "metadata": {
        "id": "vYXPzdMpLEdT"
      },
      "execution_count": 3,
      "outputs": []
    },
    {
      "cell_type": "code",
      "source": [
        "\n",
        "#nltk.download('all')\n",
        "\n",
        "mensagem = pd.read_csv('spam.csv', encoding='latin-1')\n",
        "\n",
        "mensagem = mensagem.drop(['Unnamed: 2','Unnamed: 3','Unnamed: 4'], axis=1)\n",
        "\n",
        "mensagem = mensagem.rename(columns={'v1': 'tipo','v2': 'mensagem'})\n",
        "print(mensagem)"
      ],
      "metadata": {
        "id": "IbcfJb8eLhN4",
        "colab": {
          "base_uri": "https://localhost:8080/"
        },
        "outputId": "02c8a44c-2ad9-4afc-ea0e-bb8f84bbd38f"
      },
      "execution_count": 6,
      "outputs": [
        {
          "output_type": "stream",
          "name": "stdout",
          "text": [
            "      tipo                                           mensagem\n",
            "0      ham  Go until jurong point, crazy.. Available only ...\n",
            "1      ham                      Ok lar... Joking wif u oni...\n",
            "2     spam  Free entry in 2 a wkly comp to win FA Cup fina...\n",
            "3      ham  U dun say so early hor... U c already then say...\n",
            "4      ham  Nah I don't think he goes to usf, he lives aro...\n",
            "...    ...                                                ...\n",
            "5567  spam  This is the 2nd time we have tried 2 contact u...\n",
            "5568   ham              Will Ì_ b going to esplanade fr home?\n",
            "5569   ham  Pity, * was in mood for that. So...any other s...\n",
            "5570   ham  The guy did some bitching but I acted like i'd...\n",
            "5571   ham                         Rofl. Its true to its name\n",
            "\n",
            "[5572 rows x 2 columns]\n"
          ]
        }
      ]
    },
    {
      "cell_type": "code",
      "source": [
        "def processaTexto(texto):\n",
        "    #remove pontuação caractere a caractere\n",
        "    remove_pontuacao = [char for char in texto if char not in string.punctuation]\n",
        "    #junta os caracteres em palavras novamente\n",
        "    remove_pontuacao = ''.join(remove_pontuacao)\n",
        "    \n",
        "    #nopunc.split() separa cada frase em palavras, retirando as que estão dentro de stopwords\n",
        "    #word.lower() torna todas as letras minúsculas\n",
        "    #essa linha remove as stopwords, retornando apenas as palavras relevantes para a análise\n",
        "    frase_limpa = [word for word in remove_pontuacao.split() if word.lower() not in stopwords.words('english')]\n",
        "        \n",
        "    return frase_limpa\n"
      ],
      "metadata": {
        "id": "4rIrw4wQYufH"
      },
      "execution_count": 7,
      "outputs": []
    },
    {
      "cell_type": "markdown",
      "source": [
        "## Análise Estatisticas, quantidade de caracteres em cada sms"
      ],
      "metadata": {
        "id": "aKBxDlHUOdsU"
      }
    },
    {
      "cell_type": "code",
      "source": [
        "\n",
        "\n",
        "\n",
        "\n",
        "\n",
        "#print(messages.iloc[:,2])\n",
        "\n",
        "\n",
        "# print('ham')\n",
        "# print(mensagem.groupby('tipo').describe().iloc[0]) #quantidade de ham count = quantiadade, unique= mensagens únicas, não repetidas, top = a mais repetida, freq = quantidade de vezes que é repetida \n",
        "# print('\\nspam')\n",
        "# print(mensagem.groupby('tipo').describe().iloc[1]) #quantidade de spam \n",
        "\n",
        "#desenha um gráfico do número de mensagens pelo tamanho\n",
        "#podemos ver pela figura que as mensagens não spam (ham) possuem mensagens com menos de\n",
        "#200 caracteres (em média 100 para ser preciso), já as mensagens SPAM tendem a ser\n",
        "#maiores do que 100, oscilando entre 130 e 140\n",
        "\n",
        "mensagem['length'] = mensagem['mensagem'].apply(len)\n",
        "\n",
        "mensagem['mensagem'].apply(processaTexto)\n",
        "msg_train, msg_test, class_train, class_test = train_test_split(mensagem['mensagem'], mensagem['tipo'], test_size=0.1)\n",
        "pipeline = Pipeline([\n",
        "    ('bow', CountVectorizer(analyzer = processaTexto)),\n",
        "    ('tfidf', TfidfTransformer()),\n",
        "    ('classifier', MultinomialNB())\n",
        "])\n",
        "\n",
        "\n",
        "pipeline.fit(msg_train, class_train)\n",
        "\n",
        "predictions = pipeline.predict(msg_test)\n",
        "\n",
        "mensagem.hist(column='length',by='tipo', bins=100, figsize=(15,6))\n",
        "\n",
        "print('\\nHistograma da quantidade de caracteres')\n",
        "print(classification_report(class_test, predictions))\n",
        "\n",
        "\n",
        "\n"
      ],
      "metadata": {
        "id": "umKiKktUOgjo",
        "colab": {
          "base_uri": "https://localhost:8080/",
          "height": 600
        },
        "outputId": "2c723f50-ce7c-4c0d-ea0f-ec31bdd0c0fa"
      },
      "execution_count": 8,
      "outputs": [
        {
          "output_type": "stream",
          "name": "stdout",
          "text": [
            "\n",
            "Histograma da quantidade de caracteres\n",
            "              precision    recall  f1-score   support\n",
            "\n",
            "         ham       0.97      1.00      0.98       499\n",
            "        spam       1.00      0.69      0.82        59\n",
            "\n",
            "    accuracy                           0.97       558\n",
            "   macro avg       0.98      0.85      0.90       558\n",
            "weighted avg       0.97      0.97      0.97       558\n",
            "\n"
          ]
        },
        {
          "output_type": "display_data",
          "data": {
            "text/plain": [
              "<Figure size 1080x432 with 2 Axes>"
            ],
            "image/png": "[encoded data removed]"
          },
          "metadata": {
            "needs_background": "light"
          }
        }
      ]
    },
    {
      "cell_type": "code",
      "source": [],
      "metadata": {
        "id": "dhXUwWXFZLPD"
      },
      "execution_count": null,
      "outputs": []
    }
  ]
}